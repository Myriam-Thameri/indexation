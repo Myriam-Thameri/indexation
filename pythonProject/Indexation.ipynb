{
 "cells": [
  {
   "cell_type": "code",
   "execution_count": 1,
   "id": "initial_id",
   "metadata": {
    "collapsed": true,
    "ExecuteTime": {
     "end_time": "2024-03-29T07:16:05.433641Z",
     "start_time": "2024-03-29T07:16:02.361920Z"
    }
   },
   "outputs": [],
   "source": [
    "import nltk\n",
    "from nltk.corpus import webtext\n",
    "import pandas as pd\n",
    "from nltk.tokenize import sent_tokenize, word_tokenize\n",
    "from nltk.corpus import stopwords\n",
    "from nltk.stem import PorterStemmer\n",
    "from nltk.stem import WordNetLemmatizer\n",
    "lemmatizer = WordNetLemmatizer()\n",
    "import math as m\n",
    "ids = nltk.corpus.webtext.fileids()\n",
    "ps = PorterStemmer()\n",
    "from nltk.corpus import wordnet"
   ]
  },
  {
   "cell_type": "code",
   "outputs": [],
   "source": [
    "def indexation(Pg):\n",
    "  word = Pg.split(\" \")\n",
    "  word_filtered = [w for w in word if not w in stopwords.words('english')]\n",
    "  word_Lem = [ps.stem(w) for w in word_filtered]\n",
    "  word_Lem = [w.lower() for w in word_Lem]\n",
    "  word_filtered = [w.lower() for w in word_filtered]\n",
    "  return word_Lem , word_filtered"
   ],
   "metadata": {
    "collapsed": false,
    "ExecuteTime": {
     "end_time": "2024-03-29T07:16:05.438773Z",
     "start_time": "2024-03-29T07:16:05.434654Z"
    }
   },
   "id": "a43c9220aaba34ff",
   "execution_count": 2
  },
  {
   "cell_type": "code",
   "outputs": [],
   "source": [
    "def poids_tf_idf(mot,pg):\n",
    "  word_Lem , word_filtered = indexation(pg)\n",
    "  mytexts = nltk.TextCollection([word_filtered, word_Lem])\n",
    "  tf = mytexts.tf(mot,word_filtered)\n",
    "  idf = mytexts.idf(mot)\n",
    "  if idf == 0:\n",
    "    idf=0.1\n",
    "  tf_idf = mytexts.tf_idf(mot,word_filtered)\n",
    "  return tf , idf , tf_idf "
   ],
   "metadata": {
    "collapsed": false,
    "ExecuteTime": {
     "end_time": "2024-03-29T07:16:05.444808Z",
     "start_time": "2024-03-29T07:16:05.439782Z"
    }
   },
   "id": "72ddb76fa336794d",
   "execution_count": 3
  },
  {
   "cell_type": "code",
   "outputs": [],
   "source": [
    "def definition(mot):\n",
    "  syns = wordnet.synsets(mot)\n",
    "  if (len(syns) == 0):\n",
    "    dfn =\"\"\n",
    "  else:\n",
    "    dfn = syns[0].definition()\n",
    "  return dfn"
   ],
   "metadata": {
    "collapsed": false,
    "ExecuteTime": {
     "end_time": "2024-03-29T07:16:05.452091Z",
     "start_time": "2024-03-29T07:16:05.447814Z"
    }
   },
   "id": "709c6a8d3f2d6a95",
   "execution_count": 4
  },
  {
   "cell_type": "code",
   "outputs": [],
   "source": [
    "def recherche(mot):\n",
    "  documents=[]\n",
    "  poids=[]\n",
    "  tfidf=[]\n",
    "  freq=[]\n",
    "  N = len(ids)\n",
    "  for i in ids:\n",
    "    with open(nltk.corpus.webtext.abspath(i),'r', encoding='utf-8', errors='ignore') as f:\n",
    "      pg = f.read()\n",
    "      if mot in pg:\n",
    "        word_Lem , word_filtered = indexation(pg)\n",
    "        if mot not in word_filtered:\n",
    "          continue\n",
    "        documents.append(i)\n",
    "        tf , idf , tf_idf = poids_tf_idf(mot,pg)\n",
    "        calc = (1+m.log10(tf))*(m.log10(N /idf))\n",
    "        poids.append(calc)\n",
    "        tfidf.append(tf_idf)\n",
    "        freq.append(pg.count(mot))\n",
    "  mi = -1e9\n",
    "  j=-1\n",
    "  for i in poids:\n",
    "    if mi<i:\n",
    "      mi = i\n",
    "      j = poids.index(i)\n",
    "          \n",
    "          \n",
    "  if (j == -1):\n",
    "    pert=\"\"\n",
    "  else:\n",
    "    pert = documents[j]\n",
    "\n",
    "          \n",
    "          \n",
    "  \n",
    "  return documents , poids , tfidf , freq , pert\n"
   ],
   "metadata": {
    "collapsed": false,
    "ExecuteTime": {
     "end_time": "2024-03-29T07:16:05.459918Z",
     "start_time": "2024-03-29T07:16:05.453090Z"
    }
   },
   "id": "a0b27d328d79f3a5",
   "execution_count": 5
  },
  {
   "cell_type": "code",
   "outputs": [],
   "source": [
    "def synant(mot):\n",
    "  synonyms = []\n",
    "  antonyms = []\n",
    "  syns = wordnet.synsets(mot)\n",
    "  for syn in syns:\n",
    "    for l in syn.lemmas():\n",
    "      synonyms.append(l.name())\n",
    "      if l.antonyms():\n",
    "        antonyms.append(l.antonyms()[0].name())\n",
    "  return synonyms, antonyms"
   ],
   "metadata": {
    "collapsed": false,
    "ExecuteTime": {
     "end_time": "2024-03-29T07:16:05.467082Z",
     "start_time": "2024-03-29T07:16:05.461924Z"
    }
   },
   "id": "4ca8d3c971623f7e",
   "execution_count": 6
  },
  {
   "cell_type": "code",
   "outputs": [],
   "source": [
    "def fonction_grammaticale(mot):\n",
    "  tokens = nltk.word_tokenize(mot)\n",
    "  tags = nltk.pos_tag(tokens)\n",
    "  fg = [tag[1] for tag in tags]\n",
    "  return fg"
   ],
   "metadata": {
    "collapsed": false,
    "ExecuteTime": {
     "end_time": "2024-03-29T07:16:05.472597Z",
     "start_time": "2024-03-29T07:16:05.468091Z"
    }
   },
   "id": "1af56901a9e99a08",
   "execution_count": 7
  }
 ],
 "metadata": {
  "kernelspec": {
   "display_name": "Python 3",
   "language": "python",
   "name": "python3"
  },
  "language_info": {
   "codemirror_mode": {
    "name": "ipython",
    "version": 2
   },
   "file_extension": ".py",
   "mimetype": "text/x-python",
   "name": "python",
   "nbconvert_exporter": "python",
   "pygments_lexer": "ipython2",
   "version": "2.7.6"
  }
 },
 "nbformat": 4,
 "nbformat_minor": 5
}
